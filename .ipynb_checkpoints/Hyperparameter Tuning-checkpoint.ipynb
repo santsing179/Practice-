{
 "cells": [
  {
   "cell_type": "code",
   "execution_count": null,
   "id": "87748380-f80e-4d6e-b2cc-dc15987840bf",
   "metadata": {},
   "outputs": [],
   "source": [
    "#Hyperparameter Tuning"
   ]
  },
  {
   "cell_type": "code",
   "execution_count": 1,
   "id": "b7755951-bfb8-442c-8579-a2f2a65bba5b",
   "metadata": {},
   "outputs": [],
   "source": [
    "# Step 1: Import Libraries\n",
    "import numpy as np\n",
    "import pandas as pd\n",
    "from sklearn.datasets import load_iris\n",
    "from sklearn.model_selection import train_test_split, GridSearchCV, RandomizedSearchCV\n",
    "from sklearn.tree import DecisionTreeClassifier\n",
    "from sklearn.metrics import accuracy_score\n",
    "from scipy.stats import randint"
   ]
  },
  {
   "cell_type": "code",
   "execution_count": 3,
   "id": "92578450-e400-47f7-9f4c-a91f47167d70",
   "metadata": {},
   "outputs": [],
   "source": [
    "# Step 2: Load the Iris Dataset\n",
    "# Load the Iris dataset, which is a simple classification dataset\n",
    "data = load_iris()\n",
    "X = data.data  # Features\n",
    "y = data.target  # Target labels\\"
   ]
  },
  {
   "cell_type": "code",
   "execution_count": 5,
   "id": "a7c51b9c-644f-4576-b29f-caf5a2fc275b",
   "metadata": {},
   "outputs": [
    {
     "name": "stdout",
     "output_type": "stream",
     "text": [
      "Base Model Accuracy: 100.00%\n"
     ]
    }
   ],
   "source": [
    "# Step 3: Train a Base Model\n",
    "\n",
    "# Split the dataset into training and testing sets (70% training, 30% testing)\n",
    "X_train, X_test, y_train, y_test = train_test_split(X, y, test_size=0.3, random_state=42)\n",
    "\n",
    "# Initialize a basic DecisionTreeClassifier model\n",
    "model = DecisionTreeClassifier(random_state=42)\n",
    "\n",
    "# Fit the model to the training data\n",
    "model.fit(X_train, y_train)\n",
    "\n",
    "# Predict on the test data and calculate the accuracy of the base model\n",
    "y_pred = model.predict(X_test)\n",
    "base_accuracy = accuracy_score(y_test, y_pred)\n",
    "print(f'Base Model Accuracy: {base_accuracy * 100:.2f}%')  # Print base model accuracy"
   ]
  },
  {
   "cell_type": "code",
   "execution_count": null,
   "id": "abb39c9d-c418-46d4-8296-db9c1aa59c3d",
   "metadata": {},
   "outputs": [],
   "source": [
    "# Step 4: Apply Grid Search for Hyperparameter Tuning"
   ]
  },
  {
   "cell_type": "code",
   "execution_count": 7,
   "id": "e75166b2-a554-4c2c-b170-5176432c509e",
   "metadata": {},
   "outputs": [
    {
     "name": "stdout",
     "output_type": "stream",
     "text": [
      "Fitting 5 folds for each of 72 candidates, totalling 360 fits\n",
      "Best Grid Search Accuracy: 100.00%\n",
      "Best Grid Search Parameters: {'criterion': 'gini', 'max_depth': 5, 'min_samples_leaf': 1, 'min_samples_split': 10}\n"
     ]
    }
   ],
   "source": [
    "# Define a hyperparameter grid for tuning the decision tree model\n",
    "param_grid = {\n",
    "    'max_depth': [3, 5, 10, None],  # Different depth values to try\n",
    "    'min_samples_split': [2, 5, 10],  # Number of samples required to split a node\n",
    "    'min_samples_leaf': [1, 2, 4],  # Minimum samples required at each leaf node\n",
    "    'criterion': ['gini', 'entropy']  # Splitting criterion (Gini impurity or entropy)\n",
    "}\n",
    "\n",
    "# Initialize GridSearchCV, which will test all combinations of the parameters using cross-validation\n",
    "grid_search = GridSearchCV(estimator=model, param_grid=param_grid, cv=5, n_jobs=-1, verbose=1)\n",
    "\n",
    "# Fit GridSearchCV to the training data\n",
    "grid_search.fit(X_train, y_train)\n",
    "\n",
    "# Retrieve the best model from Grid Search and print the best parameters\n",
    "best_grid_model = grid_search.best_estimator_  # Best model from grid search\n",
    "best_grid_params = grid_search.best_params_  # Best parameters found\n",
    "\n",
    "# Predict with the best model and calculate accuracy\n",
    "grid_y_pred = best_grid_model.predict(X_test)\n",
    "grid_accuracy = accuracy_score(y_test, grid_y_pred)\n",
    "print(f'Best Grid Search Accuracy: {grid_accuracy * 100:.2f}%')  # Print accuracy of grid search model\n",
    "print(f'Best Grid Search Parameters: {best_grid_params}')  # Print best parameters found"
   ]
  },
  {
   "cell_type": "code",
   "execution_count": null,
   "id": "4de00267-a986-4539-a3a6-04322de50714",
   "metadata": {},
   "outputs": [],
   "source": []
  },
  {
   "cell_type": "code",
   "execution_count": null,
   "id": "319132d7-400b-448d-b45f-7e70f3ed5d38",
   "metadata": {},
   "outputs": [],
   "source": []
  }
 ],
 "metadata": {
  "kernelspec": {
   "display_name": "Python 3 (ipykernel)",
   "language": "python",
   "name": "python3"
  },
  "language_info": {
   "codemirror_mode": {
    "name": "ipython",
    "version": 3
   },
   "file_extension": ".py",
   "mimetype": "text/x-python",
   "name": "python",
   "nbconvert_exporter": "python",
   "pygments_lexer": "ipython3",
   "version": "3.12.4"
  }
 },
 "nbformat": 4,
 "nbformat_minor": 5
}
