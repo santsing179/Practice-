{
 "cells": [
  {
   "cell_type": "code",
   "execution_count": 12,
   "id": "03adc65c-77cf-4921-aaec-059cb46fd7a1",
   "metadata": {},
   "outputs": [],
   "source": [
    "# Import necessary libraries\n",
    "import numpy as np  # Import NumPy for handling arrays"
   ]
  },
  {
   "cell_type": "code",
   "execution_count": 18,
   "id": "8f503445-86ff-4e42-bd01-19fd2f22cecb",
   "metadata": {},
   "outputs": [
    {
     "name": "stdout",
     "output_type": "stream",
     "text": [
      "Predicted monthly bill for 5 hours of daily usage: 72.00704225352112\n",
      "Slope (increase per additional hour): 11.396713615023478\n",
      "Intercept (base bill): 15.023474178403731\n"
     ]
    }
   ],
   "source": [
    "import numpy as np  # Import NumPy for handling arrays\n",
    "from sklearn.linear_model import LinearRegression  # Import LinearRegression from scikit-learn\n",
    "\n",
    "# Define the dataset\n",
    "# X represents the average daily usage in hours (input feature)\n",
    "# y represents the monthly bill in dollars (target variable)\n",
    "X = np.array([[3], [4], [6], [7], [8], [10], [12]])  # input data formatted as a 2D array\n",
    "y = np.array([50, 60, 80, 95, 110, 130, 150])  # output labels as a 1D array\n",
    "\n",
    "# Initialize the linear regression model\n",
    "model = LinearRegression()  # Create an instance of LinearRegression\n",
    "\n",
    "# Train the model on the dataset\n",
    "model.fit(X, y)  # fit() finds the best-fit line that minimizes error\n",
    "\n",
    "# Make a prediction\n",
    "# Predict the monthly bill for a household that uses electricity for 5 hours daily\n",
    "predicted_bill_5_hours = model.predict(np.array([[5]]))  # predict() applies the model to the new data point\n",
    "print(\"Predicted monthly bill for 5 hours of daily usage:\", predicted_bill_5_hours[0])\n",
    "\n",
    "# Extract and print model parameters\n",
    "# The slope (rate of increase per additional hour) and intercept (baseline monthly bill)\n",
    "slope = model.coef_[0]  # model.coef_ gives the slope of the line\n",
    "intercept = model.intercept_  # model.intercept_ is the y-intercept\n",
    "print(\"Slope (increase per additional hour):\", slope)\n",
    "print(\"Intercept (base bill):\", intercept)\n"
   ]
  },
  {
   "cell_type": "code",
   "execution_count": null,
   "id": "ec0a6979-39f3-425d-b799-c00d4da96a21",
   "metadata": {},
   "outputs": [],
   "source": []
  }
 ],
 "metadata": {
  "kernelspec": {
   "display_name": "Python 3 (ipykernel)",
   "language": "python",
   "name": "python3"
  },
  "language_info": {
   "codemirror_mode": {
    "name": "ipython",
    "version": 3
   },
   "file_extension": ".py",
   "mimetype": "text/x-python",
   "name": "python",
   "nbconvert_exporter": "python",
   "pygments_lexer": "ipython3",
   "version": "3.12.4"
  }
 },
 "nbformat": 4,
 "nbformat_minor": 5
}
