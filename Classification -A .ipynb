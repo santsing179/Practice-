{
 "cells": [
  {
   "cell_type": "markdown",
   "id": "8c4bc666-34a1-47b6-8018-1ad79dafae95",
   "metadata": {},
   "source": [
    "<div style=\"background-color: #add8e6; padding: 10px; height: 70px; border-radius: 15px;\">\n",
    "    <div style=\"font-family: 'Georgia', serif; font-size: 20px; padding: 10px; text-align: right; position: absolute; right: 20px;\">\n",
    "        Mohammad Idrees Bhat <br>\n",
    "        <span style=\"font-family: 'Arial', sans-serif;font-size: 12px; color: #0a0a0a;\">Tech Skills Trainer | AI/ML Consultant</span> <!--- Mohammad Idrees Bhat | Tech Skills Trainer | AI/ML Consultant --->\n",
    "    </div>\n",
    "</div>"
   ]
  },
  {
   "cell_type": "markdown",
   "id": "ef444d2e-97e9-49a8-bf3d-0119a2dfebb5",
   "metadata": {},
   "source": [
    "<!--- Mohammad Idrees Bhat | Tech Skills Trainer | AI/ML Consultant --->"
   ]
  },
  {
   "cell_type": "markdown",
   "id": "151ad3d8-0bce-4e29-86da-5ea91b5a69df",
   "metadata": {},
   "source": [
    "<div style=\"background-color: #002147; padding: 10px; text-align: center; color: white; font-size: 32px; font-family: 'Arial', sans-serif;\">\n",
    "   Supervised Learning Algorithms comparisons <br>\n",
    "    <h3 style=\"text-align: center; color: white; font-size: 15px; font-family: 'Arial', sans-serif;\">Classification algorithms</h3>\n",
    "</div>"
   ]
  },
  {
   "cell_type": "markdown",
   "id": "f5db766b",
   "metadata": {},
   "source": [
    "### Applying Classification Algorithms to the Titanic Dataset "
   ]
  },
  {
   "cell_type": "code",
   "execution_count": 59,
   "id": "3d406509",
   "metadata": {},
   "outputs": [],
   "source": [
    "# Import necessary libraries\n",
    "import pandas as pd  # For data manipulation\n",
    "import seaborn as sns  # For loading datasets\n",
    "\n",
    "# Load the Titanic dataset from seaborn\n",
    "data = sns.load_dataset('titanic')"
   ]
  },
  {
   "cell_type": "code",
   "execution_count": 60,
   "id": "b6551a2f",
   "metadata": {},
   "outputs": [
    {
     "name": "stdout",
     "output_type": "stream",
     "text": [
      "Dataset Preview:\n",
      "   survived  pclass     sex   age  sibsp  parch     fare embarked  class  \\\n",
      "0         0       3    male  22.0      1      0   7.2500        S  Third   \n",
      "1         1       1  female  38.0      1      0  71.2833        C  First   \n",
      "2         1       3  female  26.0      0      0   7.9250        S  Third   \n",
      "3         1       1  female  35.0      1      0  53.1000        S  First   \n",
      "4         0       3    male  35.0      0      0   8.0500        S  Third   \n",
      "\n",
      "     who  adult_male deck  embark_town alive  alone  \n",
      "0    man        True  NaN  Southampton    no  False  \n",
      "1  woman       False    C    Cherbourg   yes  False  \n",
      "2  woman       False  NaN  Southampton   yes   True  \n",
      "3  woman       False    C  Southampton   yes  False  \n",
      "4    man        True  NaN  Southampton    no   True  \n"
     ]
    }
   ],
   "source": [
    "# Display the first few rows of the dataset to understand its structure\n",
    "print(\"Dataset Preview:\")\n",
    "print(data.head())"
   ]
  },
  {
   "cell_type": "markdown",
   "id": "0442fffa",
   "metadata": {},
   "source": [
    "## Data Preparation"
   ]
  },
  {
   "cell_type": "code",
   "execution_count": 61,
   "id": "2528985a",
   "metadata": {},
   "outputs": [],
   "source": [
    "# Drop columns that won't be used for prediction to simplify the dataset\n",
    "data = data.drop(['embarked', 'class', 'who', 'adult_male', 'deck', 'alive', 'alone'], axis=1)\n"
   ]
  },
  {
   "cell_type": "code",
   "execution_count": 62,
   "id": "e771e5a4",
   "metadata": {},
   "outputs": [
    {
     "data": {
      "text/html": [
       "<div>\n",
       "<style scoped>\n",
       "    .dataframe tbody tr th:only-of-type {\n",
       "        vertical-align: middle;\n",
       "    }\n",
       "\n",
       "    .dataframe tbody tr th {\n",
       "        vertical-align: top;\n",
       "    }\n",
       "\n",
       "    .dataframe thead th {\n",
       "        text-align: right;\n",
       "    }\n",
       "</style>\n",
       "<table border=\"1\" class=\"dataframe\">\n",
       "  <thead>\n",
       "    <tr style=\"text-align: right;\">\n",
       "      <th></th>\n",
       "      <th>survived</th>\n",
       "      <th>pclass</th>\n",
       "      <th>sex</th>\n",
       "      <th>age</th>\n",
       "      <th>sibsp</th>\n",
       "      <th>parch</th>\n",
       "      <th>fare</th>\n",
       "      <th>embark_town</th>\n",
       "    </tr>\n",
       "  </thead>\n",
       "  <tbody>\n",
       "    <tr>\n",
       "      <th>0</th>\n",
       "      <td>0</td>\n",
       "      <td>3</td>\n",
       "      <td>male</td>\n",
       "      <td>22.0</td>\n",
       "      <td>1</td>\n",
       "      <td>0</td>\n",
       "      <td>7.2500</td>\n",
       "      <td>Southampton</td>\n",
       "    </tr>\n",
       "    <tr>\n",
       "      <th>1</th>\n",
       "      <td>1</td>\n",
       "      <td>1</td>\n",
       "      <td>female</td>\n",
       "      <td>38.0</td>\n",
       "      <td>1</td>\n",
       "      <td>0</td>\n",
       "      <td>71.2833</td>\n",
       "      <td>Cherbourg</td>\n",
       "    </tr>\n",
       "    <tr>\n",
       "      <th>2</th>\n",
       "      <td>1</td>\n",
       "      <td>3</td>\n",
       "      <td>female</td>\n",
       "      <td>26.0</td>\n",
       "      <td>0</td>\n",
       "      <td>0</td>\n",
       "      <td>7.9250</td>\n",
       "      <td>Southampton</td>\n",
       "    </tr>\n",
       "    <tr>\n",
       "      <th>3</th>\n",
       "      <td>1</td>\n",
       "      <td>1</td>\n",
       "      <td>female</td>\n",
       "      <td>35.0</td>\n",
       "      <td>1</td>\n",
       "      <td>0</td>\n",
       "      <td>53.1000</td>\n",
       "      <td>Southampton</td>\n",
       "    </tr>\n",
       "    <tr>\n",
       "      <th>4</th>\n",
       "      <td>0</td>\n",
       "      <td>3</td>\n",
       "      <td>male</td>\n",
       "      <td>35.0</td>\n",
       "      <td>0</td>\n",
       "      <td>0</td>\n",
       "      <td>8.0500</td>\n",
       "      <td>Southampton</td>\n",
       "    </tr>\n",
       "  </tbody>\n",
       "</table>\n",
       "</div>"
      ],
      "text/plain": [
       "   survived  pclass     sex   age  sibsp  parch     fare  embark_town\n",
       "0         0       3    male  22.0      1      0   7.2500  Southampton\n",
       "1         1       1  female  38.0      1      0  71.2833    Cherbourg\n",
       "2         1       3  female  26.0      0      0   7.9250  Southampton\n",
       "3         1       1  female  35.0      1      0  53.1000  Southampton\n",
       "4         0       3    male  35.0      0      0   8.0500  Southampton"
      ]
     },
     "execution_count": 62,
     "metadata": {},
     "output_type": "execute_result"
    }
   ],
   "source": [
    "data.head()"
   ]
  },
  {
   "cell_type": "markdown",
   "id": "85fefec7",
   "metadata": {},
   "source": [
    "#### Data Cleaning"
   ]
  },
  {
   "cell_type": "code",
   "execution_count": 63,
   "id": "ed87987f",
   "metadata": {},
   "outputs": [],
   "source": [
    "# Handle missing values in 'age' and 'fare' columns by replacing them with the column mean\n",
    "from sklearn.impute import SimpleImputer"
   ]
  },
  {
   "cell_type": "code",
   "execution_count": 64,
   "id": "a2106cdd",
   "metadata": {},
   "outputs": [],
   "source": [
    "# Impute missing values in 'age' and 'fare' columns separately\n",
    "\n",
    "# Impute missing values in the 'age' column\n",
    "age_imputer = SimpleImputer(strategy='mean')\n",
    "data['age'] = age_imputer.fit_transform(data[['age']])\n",
    "\n",
    "# Impute missing values in the 'fare' column\n",
    "fare_imputer = SimpleImputer(strategy='mean')\n",
    "data['fare'] = fare_imputer.fit_transform(data[['fare']])\n"
   ]
  },
  {
   "cell_type": "code",
   "execution_count": 65,
   "id": "e32846d3",
   "metadata": {},
   "outputs": [],
   "source": [
    "# Drop rows with missing 'sex' data as this column is important for prediction\n",
    "data = data.dropna(subset=['sex'])"
   ]
  },
  {
   "cell_type": "markdown",
   "id": "1872903f",
   "metadata": {},
   "source": [
    "##Data_Encoding##"
   ]
  },
  {
   "cell_type": "code",
   "execution_count": 66,
   "id": "5e388df4",
   "metadata": {},
   "outputs": [],
   "source": [
    "# Encode 'sex' as a binary variable (0 for male, 1 for female)\n",
    "\n",
    "from sklearn.preprocessing import LabelEncoder\n",
    "encoder = LabelEncoder()\n",
    "data['sex'] = encoder.fit_transform(data['sex'])"
   ]
  },
  {
   "cell_type": "code",
   "execution_count": 67,
   "id": "305f9577",
   "metadata": {},
   "outputs": [],
   "source": [
    "# Encode 'Embarked' column using LabelEncoder\n",
    "label_encoder = LabelEncoder()\n",
    "data[\"embark_town\"] = label_encoder.fit_transform(data[\"embark_town\"])"
   ]
  },
  {
   "cell_type": "code",
   "execution_count": 68,
   "id": "5a2c1dda",
   "metadata": {},
   "outputs": [
    {
     "data": {
      "text/html": [
       "<div>\n",
       "<style scoped>\n",
       "    .dataframe tbody tr th:only-of-type {\n",
       "        vertical-align: middle;\n",
       "    }\n",
       "\n",
       "    .dataframe tbody tr th {\n",
       "        vertical-align: top;\n",
       "    }\n",
       "\n",
       "    .dataframe thead th {\n",
       "        text-align: right;\n",
       "    }\n",
       "</style>\n",
       "<table border=\"1\" class=\"dataframe\">\n",
       "  <thead>\n",
       "    <tr style=\"text-align: right;\">\n",
       "      <th></th>\n",
       "      <th>survived</th>\n",
       "      <th>pclass</th>\n",
       "      <th>sex</th>\n",
       "      <th>age</th>\n",
       "      <th>sibsp</th>\n",
       "      <th>parch</th>\n",
       "      <th>fare</th>\n",
       "      <th>embark_town</th>\n",
       "    </tr>\n",
       "  </thead>\n",
       "  <tbody>\n",
       "    <tr>\n",
       "      <th>0</th>\n",
       "      <td>0</td>\n",
       "      <td>3</td>\n",
       "      <td>1</td>\n",
       "      <td>22.0</td>\n",
       "      <td>1</td>\n",
       "      <td>0</td>\n",
       "      <td>7.2500</td>\n",
       "      <td>2</td>\n",
       "    </tr>\n",
       "    <tr>\n",
       "      <th>1</th>\n",
       "      <td>1</td>\n",
       "      <td>1</td>\n",
       "      <td>0</td>\n",
       "      <td>38.0</td>\n",
       "      <td>1</td>\n",
       "      <td>0</td>\n",
       "      <td>71.2833</td>\n",
       "      <td>0</td>\n",
       "    </tr>\n",
       "    <tr>\n",
       "      <th>2</th>\n",
       "      <td>1</td>\n",
       "      <td>3</td>\n",
       "      <td>0</td>\n",
       "      <td>26.0</td>\n",
       "      <td>0</td>\n",
       "      <td>0</td>\n",
       "      <td>7.9250</td>\n",
       "      <td>2</td>\n",
       "    </tr>\n",
       "    <tr>\n",
       "      <th>3</th>\n",
       "      <td>1</td>\n",
       "      <td>1</td>\n",
       "      <td>0</td>\n",
       "      <td>35.0</td>\n",
       "      <td>1</td>\n",
       "      <td>0</td>\n",
       "      <td>53.1000</td>\n",
       "      <td>2</td>\n",
       "    </tr>\n",
       "    <tr>\n",
       "      <th>4</th>\n",
       "      <td>0</td>\n",
       "      <td>3</td>\n",
       "      <td>1</td>\n",
       "      <td>35.0</td>\n",
       "      <td>0</td>\n",
       "      <td>0</td>\n",
       "      <td>8.0500</td>\n",
       "      <td>2</td>\n",
       "    </tr>\n",
       "  </tbody>\n",
       "</table>\n",
       "</div>"
      ],
      "text/plain": [
       "   survived  pclass  sex   age  sibsp  parch     fare  embark_town\n",
       "0         0       3    1  22.0      1      0   7.2500            2\n",
       "1         1       1    0  38.0      1      0  71.2833            0\n",
       "2         1       3    0  26.0      0      0   7.9250            2\n",
       "3         1       1    0  35.0      1      0  53.1000            2\n",
       "4         0       3    1  35.0      0      0   8.0500            2"
      ]
     },
     "execution_count": 68,
     "metadata": {},
     "output_type": "execute_result"
    }
   ],
   "source": [
    "data.head()"
   ]
  },
  {
   "cell_type": "code",
   "execution_count": 69,
   "id": "c5a8c41a",
   "metadata": {},
   "outputs": [],
   "source": [
    "# another way of encoding data\n",
    "\n",
    "# get_dummies takes categorical columns and converts each unique category within those columns into separate binary (0 or 1) columns.\n",
    "\n",
    "data = pd.get_dummies(data, columns=[\"sex\", \"embark_town\"], drop_first=True)"
   ]
  },
  {
   "cell_type": "code",
   "execution_count": 70,
   "id": "207665d0",
   "metadata": {},
   "outputs": [
    {
     "data": {
      "text/html": [
       "<div>\n",
       "<style scoped>\n",
       "    .dataframe tbody tr th:only-of-type {\n",
       "        vertical-align: middle;\n",
       "    }\n",
       "\n",
       "    .dataframe tbody tr th {\n",
       "        vertical-align: top;\n",
       "    }\n",
       "\n",
       "    .dataframe thead th {\n",
       "        text-align: right;\n",
       "    }\n",
       "</style>\n",
       "<table border=\"1\" class=\"dataframe\">\n",
       "  <thead>\n",
       "    <tr style=\"text-align: right;\">\n",
       "      <th></th>\n",
       "      <th>survived</th>\n",
       "      <th>pclass</th>\n",
       "      <th>age</th>\n",
       "      <th>sibsp</th>\n",
       "      <th>parch</th>\n",
       "      <th>fare</th>\n",
       "      <th>sex_1</th>\n",
       "      <th>embark_town_1</th>\n",
       "      <th>embark_town_2</th>\n",
       "      <th>embark_town_3</th>\n",
       "    </tr>\n",
       "  </thead>\n",
       "  <tbody>\n",
       "    <tr>\n",
       "      <th>0</th>\n",
       "      <td>0</td>\n",
       "      <td>3</td>\n",
       "      <td>22.0</td>\n",
       "      <td>1</td>\n",
       "      <td>0</td>\n",
       "      <td>7.2500</td>\n",
       "      <td>True</td>\n",
       "      <td>False</td>\n",
       "      <td>True</td>\n",
       "      <td>False</td>\n",
       "    </tr>\n",
       "    <tr>\n",
       "      <th>1</th>\n",
       "      <td>1</td>\n",
       "      <td>1</td>\n",
       "      <td>38.0</td>\n",
       "      <td>1</td>\n",
       "      <td>0</td>\n",
       "      <td>71.2833</td>\n",
       "      <td>False</td>\n",
       "      <td>False</td>\n",
       "      <td>False</td>\n",
       "      <td>False</td>\n",
       "    </tr>\n",
       "    <tr>\n",
       "      <th>2</th>\n",
       "      <td>1</td>\n",
       "      <td>3</td>\n",
       "      <td>26.0</td>\n",
       "      <td>0</td>\n",
       "      <td>0</td>\n",
       "      <td>7.9250</td>\n",
       "      <td>False</td>\n",
       "      <td>False</td>\n",
       "      <td>True</td>\n",
       "      <td>False</td>\n",
       "    </tr>\n",
       "    <tr>\n",
       "      <th>3</th>\n",
       "      <td>1</td>\n",
       "      <td>1</td>\n",
       "      <td>35.0</td>\n",
       "      <td>1</td>\n",
       "      <td>0</td>\n",
       "      <td>53.1000</td>\n",
       "      <td>False</td>\n",
       "      <td>False</td>\n",
       "      <td>True</td>\n",
       "      <td>False</td>\n",
       "    </tr>\n",
       "    <tr>\n",
       "      <th>4</th>\n",
       "      <td>0</td>\n",
       "      <td>3</td>\n",
       "      <td>35.0</td>\n",
       "      <td>0</td>\n",
       "      <td>0</td>\n",
       "      <td>8.0500</td>\n",
       "      <td>True</td>\n",
       "      <td>False</td>\n",
       "      <td>True</td>\n",
       "      <td>False</td>\n",
       "    </tr>\n",
       "  </tbody>\n",
       "</table>\n",
       "</div>"
      ],
      "text/plain": [
       "   survived  pclass   age  sibsp  parch     fare  sex_1  embark_town_1  \\\n",
       "0         0       3  22.0      1      0   7.2500   True          False   \n",
       "1         1       1  38.0      1      0  71.2833  False          False   \n",
       "2         1       3  26.0      0      0   7.9250  False          False   \n",
       "3         1       1  35.0      1      0  53.1000  False          False   \n",
       "4         0       3  35.0      0      0   8.0500   True          False   \n",
       "\n",
       "   embark_town_2  embark_town_3  \n",
       "0           True          False  \n",
       "1          False          False  \n",
       "2           True          False  \n",
       "3           True          False  \n",
       "4           True          False  "
      ]
     },
     "execution_count": 70,
     "metadata": {},
     "output_type": "execute_result"
    }
   ],
   "source": [
    "data.head()"
   ]
  },
  {
   "cell_type": "code",
   "execution_count": 71,
   "id": "52ff962c",
   "metadata": {},
   "outputs": [],
   "source": [
    "# Separate features (X) from the target variable (y)\n",
    "X = data.drop(['survived'], axis=1) # drops the survived column\n",
    "y = data['survived']"
   ]
  },
  {
   "cell_type": "code",
   "execution_count": 72,
   "id": "c763a48a",
   "metadata": {},
   "outputs": [],
   "source": [
    "# Split the data into training and testing sets\n",
    "from sklearn.model_selection import train_test_split\n",
    "X_train, X_test, y_train, y_test = train_test_split(X, y, test_size=0.2, random_state=0)\n"
   ]
  },
  {
   "cell_type": "code",
   "execution_count": null,
   "id": "746730fc",
   "metadata": {},
   "outputs": [],
   "source": [
    "# Function to evaluate models and print accuracy and F1-score\n",
    "from sklearn.metrics import accuracy_score, f1_score"
   ]
  },
  {
   "cell_type": "code",
   "execution_count": 74,
   "id": "16559460",
   "metadata": {},
   "outputs": [],
   "source": [
    "def evaluate_model(model, X_test, y_test, y_pred):\n",
    "    \"\"\"\n",
    "    Function to evaluate a model by printing accuracy and F1-score.\n",
    "    \"\"\"\n",
    "    accuracy = accuracy_score(y_test, y_pred)\n",
    "    f1 = f1_score(y_test, y_pred)\n",
    "    print(f\"{model} - Accuracy: {accuracy}\")\n",
    "    print(f\"{model} - F1 Score: {f1}\")\n",
    "    return accuracy, f1"
   ]
  },
  {
   "cell_type": "code",
   "execution_count": 75,
   "id": "1cf4d2b7",
   "metadata": {},
   "outputs": [],
   "source": [
    "# Dictionary to store results for comparison at the end\n",
    "results = {\n",
    "    \"Algorithm\": [],\n",
    "    \"Accuracy\": [],\n",
    "    \"F1 Score\": []\n",
    "}"
   ]
  },
  {
   "cell_type": "code",
   "execution_count": 76,
   "id": "22d4ba3b",
   "metadata": {},
   "outputs": [
    {
     "data": {
      "text/plain": [
       "{'Algorithm': [], 'Accuracy': [], 'F1 Score': []}"
      ]
     },
     "execution_count": 76,
     "metadata": {},
     "output_type": "execute_result"
    }
   ],
   "source": [
    "results"
   ]
  },
  {
   "cell_type": "markdown",
   "id": "1e3a9ce5",
   "metadata": {},
   "source": [
    "### Apply Algorithms ##"
   ]
  },
  {
   "cell_type": "code",
   "execution_count": 77,
   "id": "9ae744f7",
   "metadata": {},
   "outputs": [
    {
     "name": "stdout",
     "output_type": "stream",
     "text": [
      "Logistic Regression - Accuracy: 0.7988826815642458\n",
      "Logistic Regression - F1 Score: 0.7391304347826085\n"
     ]
    }
   ],
   "source": [
    "# 1. Logistic Regression\n",
    "from sklearn.linear_model import LogisticRegression\n",
    "log_model = LogisticRegression(max_iter=1000)\n",
    "\n",
    "log_model.fit(X_train, y_train)\n",
    "\n",
    "log_y_pred = log_model.predict(X_test)\n",
    "\n",
    "log_accuracy, log_f1 = evaluate_model(\"Logistic Regression\", X_test, y_test, log_y_pred)\n",
    "\n",
    "\n",
    "results[\"Algorithm\"].append(\"Logistic Regression\")\n",
    "results[\"Accuracy\"].append(log_accuracy)\n",
    "results[\"F1 Score\"].append(log_f1)"
   ]
  },
  {
   "cell_type": "code",
   "execution_count": 78,
   "id": "d8d0318a",
   "metadata": {},
   "outputs": [
    {
     "name": "stdout",
     "output_type": "stream",
     "text": [
      "k-NN - Accuracy: 0.7374301675977654\n",
      "k-NN - F1 Score: 0.6239999999999999\n"
     ]
    }
   ],
   "source": [
    "# 2. k-Nearest Neighbors (k-NN)\n",
    "from sklearn.neighbors import KNeighborsClassifier\n",
    "knn_model = KNeighborsClassifier(n_neighbors=5)\n",
    "knn_model.fit(X_train, y_train)\n",
    "knn_y_pred = knn_model.predict(X_test)\n",
    "knn_accuracy, knn_f1 = evaluate_model(\"k-NN\", X_test, y_test, knn_y_pred)\n",
    "results[\"Algorithm\"].append(\"k-NN\")\n",
    "results[\"Accuracy\"].append(knn_accuracy)\n",
    "results[\"F1 Score\"].append(knn_f1)"
   ]
  },
  {
   "cell_type": "code",
   "execution_count": 79,
   "id": "605e32aa",
   "metadata": {},
   "outputs": [
    {
     "name": "stdout",
     "output_type": "stream",
     "text": [
      "Decision Tree - Accuracy: 0.7821229050279329\n",
      "Decision Tree - F1 Score: 0.7022900763358778\n"
     ]
    }
   ],
   "source": [
    "# 3. Decision Tree\n",
    "from sklearn.tree import DecisionTreeClassifier\n",
    "tree_model = DecisionTreeClassifier(random_state=0)\n",
    "tree_model.fit(X_train, y_train)\n",
    "tree_y_pred = tree_model.predict(X_test)\n",
    "tree_accuracy, tree_f1 = evaluate_model(\"Decision Tree\", X_test, y_test, tree_y_pred)\n",
    "results[\"Algorithm\"].append(\"Decision Tree\")\n",
    "results[\"Accuracy\"].append(tree_accuracy)\n",
    "results[\"F1 Score\"].append(tree_f1)"
   ]
  },
  {
   "cell_type": "code",
   "execution_count": 80,
   "id": "03b23d4e",
   "metadata": {},
   "outputs": [
    {
     "name": "stdout",
     "output_type": "stream",
     "text": [
      "SVM - Accuracy: 0.7206703910614525\n",
      "SVM - F1 Score: 0.5\n"
     ]
    }
   ],
   "source": [
    "# 4. Support Vector Machine (SVM)\n",
    "from sklearn.svm import SVC\n",
    "svm_model = SVC()\n",
    "svm_model.fit(X_train, y_train)\n",
    "svm_y_pred = svm_model.predict(X_test)\n",
    "svm_accuracy, svm_f1 = evaluate_model(\"SVM\", X_test, y_test, svm_y_pred)\n",
    "results[\"Algorithm\"].append(\"SVM\")\n",
    "results[\"Accuracy\"].append(svm_accuracy)\n",
    "results[\"F1 Score\"].append(svm_f1)"
   ]
  },
  {
   "cell_type": "code",
   "execution_count": 81,
   "id": "34598e06",
   "metadata": {},
   "outputs": [
    {
     "name": "stdout",
     "output_type": "stream",
     "text": [
      "Naive Bayes - Accuracy: 0.7094972067039106\n",
      "Naive Bayes - F1 Score: 0.4090909090909091\n"
     ]
    }
   ],
   "source": [
    "# 5. Naive Bayes\n",
    "from sklearn.naive_bayes import GaussianNB\n",
    "nb_model = GaussianNB()\n",
    "nb_model.fit(X_train, y_train)\n",
    "nb_y_pred = nb_model.predict(X_test)\n",
    "nb_accuracy, nb_f1 = evaluate_model(\"Naive Bayes\", X_test, y_test, nb_y_pred)\n",
    "results[\"Algorithm\"].append(\"Naive Bayes\")\n",
    "results[\"Accuracy\"].append(nb_accuracy)\n",
    "results[\"F1 Score\"].append(nb_f1)"
   ]
  },
  {
   "cell_type": "code",
   "execution_count": 82,
   "id": "eea2814c",
   "metadata": {},
   "outputs": [
    {
     "name": "stdout",
     "output_type": "stream",
     "text": [
      "Random Forest - Accuracy: 0.8324022346368715\n",
      "Random Forest - F1 Score: 0.7692307692307692\n"
     ]
    }
   ],
   "source": [
    "# 6. Random Forest\n",
    "from sklearn.ensemble import RandomForestClassifier\n",
    "rf_model = RandomForestClassifier(random_state=0)\n",
    "rf_model.fit(X_train, y_train)\n",
    "rf_y_pred = rf_model.predict(X_test)\n",
    "rf_accuracy, rf_f1 = evaluate_model(\"Random Forest\", X_test, y_test, rf_y_pred)\n",
    "results[\"Algorithm\"].append(\"Random Forest\")\n",
    "results[\"Accuracy\"].append(rf_accuracy)\n",
    "results[\"F1 Score\"].append(rf_f1)"
   ]
  },
  {
   "cell_type": "code",
   "execution_count": 83,
   "id": "68cce0dc",
   "metadata": {},
   "outputs": [
    {
     "name": "stdout",
     "output_type": "stream",
     "text": [
      "\n",
      "Summary of Model Performance:\n",
      "             Algorithm  Accuracy  F1 Score\n",
      "0  Logistic Regression  0.798883  0.739130\n",
      "1                 k-NN  0.737430  0.624000\n",
      "2        Decision Tree  0.782123  0.702290\n",
      "3                  SVM  0.720670  0.500000\n",
      "4          Naive Bayes  0.709497  0.409091\n",
      "5        Random Forest  0.832402  0.769231\n"
     ]
    }
   ],
   "source": [
    "# Summarize results in a DataFrame for easy comparison\n",
    "results_df = pd.DataFrame(results)\n",
    "print(\"\\nSummary of Model Performance:\")\n",
    "print(results_df)"
   ]
  },
  {
   "cell_type": "code",
   "execution_count": null,
   "id": "f9150aa5",
   "metadata": {},
   "outputs": [],
   "source": []
  }
 ],
 "metadata": {
  "kernelspec": {
   "display_name": "base",
   "language": "python",
   "name": "python3"
  },
  "language_info": {
   "codemirror_mode": {
    "name": "ipython",
    "version": 3
   },
   "file_extension": ".py",
   "mimetype": "text/x-python",
   "name": "python",
   "nbconvert_exporter": "python",
   "pygments_lexer": "ipython3",
   "version": "3.12.4"
  }
 },
 "nbformat": 4,
 "nbformat_minor": 5
}
