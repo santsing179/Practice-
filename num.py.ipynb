{
 "cells": [
  {
   "cell_type": "code",
   "execution_count": 3,
   "id": "c038857d-f241-46a2-99a7-f37bb3b99a4e",
   "metadata": {},
   "outputs": [
    {
     "name": "stdout",
     "output_type": "stream",
     "text": [
      "[[1 2 3]\n",
      " [4 5 6]]\n"
     ]
    }
   ],
   "source": [
    "import numpy as np\n",
    "\n",
    "array1 = np.array([[1,2,3],[4,5,6]]) # 2d array matrix\n",
    "\n",
    "print (array1)\n"
   ]
  },
  {
   "cell_type": "code",
   "execution_count": 7,
   "id": "1c728ec4-42b4-4dff-8274-32999e98a71c",
   "metadata": {},
   "outputs": [
    {
     "data": {
      "text/plain": [
       "0    10\n",
       "1    20\n",
       "2    30\n",
       "3    40\n",
       "dtype: int64"
      ]
     },
     "execution_count": 7,
     "metadata": {},
     "output_type": "execute_result"
    }
   ],
   "source": [
    "import pandas as pd\n",
    "data = [10, 20, 30, 40]\n",
    "seriesData =pd.Series(data)\n",
    "seriesData"
   ]
  },
  {
   "cell_type": "code",
   "execution_count": null,
   "id": "a231a165-db3c-48a1-9ebd-9bb2731079b3",
   "metadata": {},
   "outputs": [],
   "source": [
    "data_dict ={'Name':['sunil','umesh', 'prakash', 'bimal'],\n",
    "            'Age' :[ 'Austin', 'New York', 'Ohio', 'Chicago'],\n",
    "            "
   ]
  }
 ],
 "metadata": {
  "kernelspec": {
   "display_name": "Python 3 (ipykernel)",
   "language": "python",
   "name": "python3"
  },
  "language_info": {
   "codemirror_mode": {
    "name": "ipython",
    "version": 3
   },
   "file_extension": ".py",
   "mimetype": "text/x-python",
   "name": "python",
   "nbconvert_exporter": "python",
   "pygments_lexer": "ipython3",
   "version": "3.12.4"
  }
 },
 "nbformat": 4,
 "nbformat_minor": 5
}
