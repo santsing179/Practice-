{
 "cells": [
  {
   "cell_type": "code",
   "execution_count": 13,
   "id": "fe400695-54a9-457f-8d83-1ea897458dfb",
   "metadata": {},
   "outputs": [
    {
     "name": "stdout",
     "output_type": "stream",
     "text": [
      "Requirement already satisfied: nltk in c:\\users\\ssing\\anaconda3\\lib\\site-packages (3.8.1)\n",
      "Requirement already satisfied: click in c:\\users\\ssing\\anaconda3\\lib\\site-packages (from nltk) (8.1.7)\n",
      "Requirement already satisfied: joblib in c:\\users\\ssing\\anaconda3\\lib\\site-packages (from nltk) (1.4.2)\n",
      "Requirement already satisfied: regex>=2021.8.3 in c:\\users\\ssing\\anaconda3\\lib\\site-packages (from nltk) (2023.10.3)\n",
      "Requirement already satisfied: tqdm in c:\\users\\ssing\\anaconda3\\lib\\site-packages (from nltk) (4.66.4)\n",
      "Requirement already satisfied: colorama in c:\\users\\ssing\\anaconda3\\lib\\site-packages (from click->nltk) (0.4.6)\n",
      "Note: you may need to restart the kernel to use updated packages.\n"
     ]
    }
   ],
   "source": [
    " # pip install nltk"
   ]
  },
  {
   "cell_type": "code",
   "execution_count": 39,
   "id": "0a02df35-00ba-4bfa-98fa-3a13a2472804",
   "metadata": {},
   "outputs": [
    {
     "name": "stderr",
     "output_type": "stream",
     "text": [
      "[nltk_data] Downloading package stopwords to\n",
      "[nltk_data]     C:\\Users\\ssing\\AppData\\Roaming\\nltk_data...\n",
      "[nltk_data]   Unzipping corpora\\stopwords.zip.\n"
     ]
    },
    {
     "data": {
      "text/plain": [
       "True"
      ]
     },
     "execution_count": 39,
     "metadata": {},
     "output_type": "execute_result"
    }
   ],
   "source": [
    "import nltk\n",
    "nltk.download('stopwords')\n",
    "\n",
    "# nltk.download('punkt') # # This downloads the necessary data for tokenization\n"
   ]
  },
  {
   "cell_type": "code",
   "execution_count": 41,
   "id": "2f2bf596-2db0-48a0-b011-52d018e98647",
   "metadata": {},
   "outputs": [
    {
     "name": "stdout",
     "output_type": "stream",
     "text": [
      "['It', 'is', 'a', 'beautiful', 'day', ',', 'Tosay', ',', 'and', 'the', 'sun', 'is', 'shining', 'hot', '!']\n"
     ]
    }
   ],
   "source": [
    "from nltk.tokenize import word_tokenize\n",
    "text = \"It is a beautiful day, Tosay, and the sun is shining hot!\"\n",
    "words = nltk.word_tokenize(text) # Tokenizing into words\n",
    "print(words)"
   ]
  },
  {
   "cell_type": "markdown",
   "id": "45da9106-c848-4f09-a88d-af77da20ba3e",
   "metadata": {},
   "source": [
    "Sentence tokenization splits a text into sentences."
   ]
  },
  {
   "cell_type": "code",
   "execution_count": 45,
   "id": "824b0fe7-6d63-4cc6-8cec-abd2ec6b4870",
   "metadata": {},
   "outputs": [
    {
     "name": "stdout",
     "output_type": "stream",
     "text": [
      "Sentence Tokens: ['It is a beautiful day, Tosay, and the sun is shining hot!']\n"
     ]
    }
   ],
   "source": [
    "from nltk.tokenize import sent_tokenize\n",
    "# Sample text\n",
    "text = \"It is a beautiful day, Tosay, and the sun is shining hot!\"\n",
    "# Sentence Tokenization\n",
    "sentences = sent_tokenize(text)\n",
    "print(\"Sentence Tokens:\", sentences)"
   ]
  },
  {
   "cell_type": "markdown",
   "id": "069ccfca-a143-4e4b-8663-3476b7e32c75",
   "metadata": {},
   "source": [
    "Character tokenization splits text into individual characters."
   ]
  },
  {
   "cell_type": "code",
   "execution_count": null,
   "id": "31c6e7c5-897a-43b9-9d25-978ecc1382a6",
   "metadata": {},
   "outputs": [],
   "source": []
  }
 ],
 "metadata": {
  "kernelspec": {
   "display_name": "Python 3 (ipykernel)",
   "language": "python",
   "name": "python3"
  },
  "language_info": {
   "codemirror_mode": {
    "name": "ipython",
    "version": 3
   },
   "file_extension": ".py",
   "mimetype": "text/x-python",
   "name": "python",
   "nbconvert_exporter": "python",
   "pygments_lexer": "ipython3",
   "version": "3.12.4"
  }
 },
 "nbformat": 4,
 "nbformat_minor": 5
}
